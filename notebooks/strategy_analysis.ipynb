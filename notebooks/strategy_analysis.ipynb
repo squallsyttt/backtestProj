{
 "cells": [
  {
   "cell_type": "markdown",
   "metadata": {},
   "source": [
    "# 中证500ETF期权策略分析\n",
    "\n",
    "本笔记本用于分析我们的期权策略：每月初卖出中证500ETF平值看涨期权，到期前7天展期。我们将分析这个策略在一年内的表现，包括收益率、风险指标和交易统计。"
   ]
  },
  {
   "cell_type": "code",
   "execution_count": null,
   "metadata": {},
   "source": [
    "# 导入必要的库\n",
    "import pandas as pd\n",
    "import numpy as np\n",
    "import matplotlib.pyplot as plt\n",
    "import seaborn as sns\n",
    "import datetime\n",
    "import sys\n",
    "import os\n",
    "\n",
    "# 设置绘图风格\n",
    "plt.style.use('ggplot')\n",
    "sns.set(font_scale=1.2)\n",
    "\n",
    "# 添加项目根目录到路径\n",
    "sys.path.append('..')\n",
    "\n",
    "# 导入自定义模块\n",
    "from backtest.engine import run_backtest\n",
    "from data.data_fetcher import DataFetcher"
   ]
  },
  {
   "cell_type": "markdown",
   "metadata": {},
   "source": [
    "## 1. 数据准备\n",
    "\n",
    "首先，我们需要获取中证500ETF和相关期权的数据。如果数据已经存在，我们将直接加载；否则，我们将从Tushare获取数据。"
   ]
  },
  {
   "cell_type": "code",
   "execution_count": null,
   "metadata": {},
   "source": [
    "# 检查数据文件是否存在\n",
    "etf_data_file = '../data/stock_data.csv'\n",
    "option_data_file = '../data/option_data.csv'\n",
    "\n",
    "if not (os.path.exists(etf_data_file) and os.path.exists(option_data_file)):\n",
    "    # 如果数据不存在，则获取数据\n",
    "    # 注意：需要设置TUSHARE_TOKEN环境变量或在此处提供token\n",
    "    token = os.environ.get('TUSHARE_TOKEN')\n",
    "    if token is None:\n",
    "        token = input('请输入Tushare API token: ')\n",
    "    \n",
    "    fetcher = DataFetcher(token=token)\n",
    "    \n",
    "    # 获取2022年的数据\n",
    "    start_date = '20220101'\n",
    "    end_date = '20221231'\n",
    "    \n",
    "    print(f\"正在获取{start_date}至{end_date}的数据...\")\n",
    "    etf_data, option_data = fetcher.prepare_backtest_data(start_date, end_date)\n",
    "    \n",
    "    # 保存数据\n",
    "    fetcher.save_data(etf_data, option_data, etf_file=etf_data_file, option_file=option_data_file)\n",
    "else:\n",
    "    print(\"数据文件已存在，将直接加载数据\")"
   ]
  },
  {
   "cell_type": "markdown",
   "metadata": {},
   "source": [
    "## 2. 查看数据\n",
    "\n",
    "让我们先看看ETF和期权数据的基本情况。"
   ]
  },
  {
   "cell_type": "code",
   "execution_count": null,
   "metadata": {},
   "source": [
    "# 加载ETF数据\n",
    "etf_df = pd.read_csv(etf_data_file)\n",
    "etf_df['trade_date'] = pd.to_datetime(etf_df['trade_date'])\n",
    "\n",
    "# 显示ETF数据基本信息\n",
    "print(\"ETF数据基本信息：\")\n",
    "print(f\"数据时间范围：{etf_df['trade_date'].min()} 至 {etf_df['trade_date'].max()}\")\n",
    "print(f\"交易日数量：{len(etf_df)}\")\n",
    "print(\"\\n前5行数据：\")\n",
    "etf_df.head()"
   ]
  },
  {
   "cell_type": "code",
   "execution_count": null,
   "metadata": {},
   "source": [
    "# 加载期权数据\n",
    "option_df = pd.read_csv(option_data_file)\n",
    "option_df['trade_date'] = pd.to_datetime(option_df['trade_date'])\n",
    "option_df['expire_date'] = pd.to_datetime(option_df['expire_date'])\n",
    "\n",
    "# 显示期权数据基本信息\n",
    "print(\"期权数据基本信息：\")\n",
    "print(f\"期权合约数量：{option_df['ts_code'].nunique()}\")\n",
    "print(f\"看涨期权数量：{option_df[option_df['call_put'] == 'C']['ts_code'].nunique()}\")\n",
    "print(f\"看跌期权数量：{option_df[option_df['call_put'] == 'P']['ts_code'].nunique()}\")\n",
    "print(\"\\n前5行数据：\")\n",
    "option_df.head()"
   ]
  },
  {
   "cell_type": "markdown",
   "metadata": {},
   "source": [
    "## 3. 可视化ETF价格走势\n",
    "\n",
    "让我们绘制中证500ETF在回测期间的价格走势图。"
   ]
  },
  {
   "cell_type": "code",
   "execution_count": null,
   "metadata": {},
   "source": [
    "plt.figure(figsize=(14, 7))\n",
    "\n",
    "# 绘制ETF收盘价走势\n",
    "plt.plot(etf_df['trade_date'], etf_df['close'], label='中证500ETF收盘价')\n",
    "\n",
    "# 添加标题和标签\n",
    "plt.title('中证500ETF价格走势', fontsize=15)\n",
    "plt.xlabel('日期')\n",
    "plt.ylabel('价格')\n",
    "plt.grid(True)\n",
    "plt.legend()\n",
    "\n",
    "# 优化x轴日期显示\n",
    "plt.xticks(rotation=45)\n",
    "plt.tight_layout()\n",
    "\n",
    "plt.show()"
   ]
  },
  {
   "cell_type": "markdown",
   "metadata": {},
   "source": [
    "## 4. 运行策略回测\n",
    "\n",
    "现在，我们将运行我们的期权策略回测，并分析结果。"
   ]
  },
  {
   "cell_type": "code",
   "execution_count": null,
   "metadata": {},
   "source": [
    "# 运行回测\n",
    "results = run_backtest(\n",
    "    etf_data_file=etf_data_file,\n",
    "    option_data_file=option_data_file,\n",
    "    cash=100000.0,  # 初始资金10万\n",
    "    commission=0.0003,  # 佣金率0.03%\n",
    "    days_before_expiry=7,  # 到期前7天展期\n",
    "    printlog=True  # 打印日志\n",
    ")"
   ]
  },
  {
   "cell_type": "markdown",
   "metadata": {},
   "source": [
    "## 5. 分析回测结果\n",
    "\n",
    "让我们分析回测结果，包括收益率、交易统计等。"
   ]
  },
  {
   "cell_type": "code",
   "execution_count": null,
   "metadata": {},
   "source": [
    "if results:\n",
    "    # 基本回测结果\n",
    "    print(f\"初始资金: {results['initial_cash']:.2f}元\")\n",
    "    print(f\"最终资金: {results['final_cash']:.2f}元\")\n",
    "    print(f\"总收益率: {results['returns']:.2f}%\")\n",
    "    print(f\"总交易次数: {len(results['trades'])}次\")\n",
    "    \n",
    "    # 如果有交易记录，计算更多统计数据\n",
    "    if results['trades']:\n",
    "        trades_df = pd.DataFrame(results['trades'])\n",
    "        \n",
    "        # 计算平均持仓天数\n",
    "        avg_days_held = trades_df['days_held'].mean()\n",
    "        print(f\"平均持仓天数: {avg_days_held:.2f}天\")\n",
    "        \n",
    "        # 计算平均每笔交易收益\n",
    "        avg_profit = trades_df['profit_loss'].mean()\n",
    "        print(f\"平均每笔交易收益: {avg_profit:.2f}元\")\n",
    "        \n",
    "        # 计算胜率\n",
    "        win_rate = (trades_df['profit_loss'] > 0).mean() * 100\n",
    "        print(f\"胜率: {win_rate:.2f}%\")\n",
    "        \n",
    "        # 计算盈亏比\n",
    "        profit_trades = trades_df[trades_df['profit_loss'] > 0]\n",
    "        loss_trades = trades_df[trades_df['profit_loss'] < 0]\n",
    "        \n",
    "        if not loss_trades.empty and not profit_trades.empty:\n",
    "            avg_profit = profit_trades['profit_loss'].mean()\n",
    "            avg_loss = abs(loss_trades['profit_loss'].mean())\n",
    "            profit_loss_ratio = avg_profit / avg_loss if avg_loss != 0 else float('inf')\n",
    "            print(f\"盈亏比: {profit_loss_ratio:.2f}\")\n",
    "else:\n",
    "    print(\"回测失败，未能获取结果\")"
   ]
  },
  {
   "cell_type": "markdown",
   "metadata": {},
   "source": [
    "## 6. 可视化交易结果\n",
    "\n",
    "让我们绘制交易结果的可视化图表。"
   ]
  }
]
}