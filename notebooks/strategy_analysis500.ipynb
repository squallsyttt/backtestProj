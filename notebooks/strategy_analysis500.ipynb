{
 "cells": [
  {
   "cell_type": "markdown",
   "id": "6d6e75b2b2dbe97f",
   "metadata": {},
   "source": [
    "# 中证500ETF期权策略分析\n",
    "\n",
    "本笔记本用于分析我们的期权策略：每月初卖出中证500ETF平值看涨期权，到期前7天展期。我们将分析这个策略在一年内的表现，包括收益率、风险指标和交易统计。"
   ]
  },
  {
   "cell_type": "code",
   "execution_count": 7,
   "id": "9d0f6ac53ae835a7",
   "metadata": {
    "ExecuteTime": {
     "end_time": "2025-02-28T05:59:26.983079Z",
     "start_time": "2025-02-28T05:59:26.977733Z"
    }
   },
   "outputs": [],
   "source": [
    "# 导入必要的库\n",
    "import pandas as pd\n",
    "import numpy as np\n",
    "import matplotlib.pyplot as plt\n",
    "import seaborn as sns\n",
    "import datetime\n",
    "import sys\n",
    "import os\n",
    "from dotenv import load_dotenv\n",
    "\n",
    "# 加在项目中的.env配置 tushare的token之类的配置文件都可以放在里面\n",
    "load_dotenv()\n",
    "\n",
    "# 设置绘图风格\n",
    "plt.style.use('ggplot')\n",
    "sns.set(font_scale=1.2)\n",
    "\n",
    "# 添加项目根目录到路径\n",
    "sys.path.append('..')\n",
    "\n",
    "# 导入自定义模块 回测模块的engin 和 数据模块的data_fetcher\n",
    "from backtest.engine import run_backtest\n",
    "from data.data_fetcher import DataFetcher\n",
    "\n",
    "import matplotlib.font_manager as fm\n",
    "\n",
    "# 获取所有可用字体\n",
    "# fonts = fm.findSystemFonts()\n",
    "# for font in fonts:\n",
    "#     print(fm.FontProperties(fname=font).get_name())\n",
    "\n",
    "import matplotlib.pyplot as plt\n",
    "plt.rcParams['font.sans-serif'] = ['Arial Unicode MS']\n",
    "plt.rcParams['axes.unicode_minus'] = False\n",
    "\n",
    "\n",
    "\n",
    "\n"
   ]
  },
  {
   "cell_type": "markdown",
   "id": "9e78584ac747d964",
   "metadata": {},
   "source": [
    "## 1. 数据准备\n",
    "\n",
    "首先，我们需要获取中证500ETF和相关期权的数据。如果数据已经存在，我们将直接加载；否则，我们将从Tushare获取数据。"
   ]
  },
  {
   "cell_type": "code",
   "execution_count": 8,
   "id": "dc88059d6680623",
   "metadata": {
    "ExecuteTime": {
     "end_time": "2025-02-28T05:49:14.523071Z",
     "start_time": "2025-02-28T05:49:14.518235Z"
    }
   },
   "outputs": [
    {
     "name": "stdout",
     "output_type": "stream",
     "text": [
      "数据文件已存在，将直接加载数据\n"
     ]
    }
   ],
   "source": [
    "# 定义标的种类和日期范围\n",
    "underlying = 'CSI500ETF'  # 标的种类，这里暂定中证500etf\n",
    "start_date = '20240101'\n",
    "end_date = '20241231'\n",
    "\n",
    "# 创建标的文件夹\n",
    "underlying_folder = f'../data/{underlying}'\n",
    "if not os.path.exists(underlying_folder):\n",
    "    os.makedirs(underlying_folder)\n",
    "\n",
    "# 生成包含日期的文件名\n",
    "etf_data_file = f'{underlying_folder}/{start_date}_{end_date}_stock_data.csv'\n",
    "option_data_file = f'{underlying_folder}/{start_date}_{end_date}_option_data.csv'\n",
    "\n",
    "if not (os.path.exists(etf_data_file) and os.path.exists(option_data_file)):\n",
    "    token = os.environ.get('TUSHARE_TOKEN')\n",
    "    if token is None:\n",
    "        token = input('请输入Tushare API token: ')\n",
    "\n",
    "    fetcher = DataFetcher(token=token)\n",
    "\n",
    "    print(f\"正在获取{start_date}至{end_date} {underlying}的数据...\")\n",
    "    etf_data, option_data = fetcher.prepare_backtest_data(start_date, end_date)\n",
    "    \n",
    "    # 保存数据\n",
    "    fetcher.save_data(etf_data, option_data, etf_file=etf_data_file, option_file=option_data_file)\n",
    "else:\n",
    "    print(\"数据文件已存在，将直接加载数据\")"
   ]
  },
  {
   "cell_type": "markdown",
   "id": "8c4af7685be1e1a1",
   "metadata": {},
   "source": [
    "## 2. 查看数据\n",
    "\n",
    "让我们先看看ETF和期权数据的基本情况。"
   ]
  },
  {
   "cell_type": "code",
   "execution_count": 9,
   "id": "2a5973896fabb7b3",
   "metadata": {
    "ExecuteTime": {
     "end_time": "2025-02-28T05:49:17.084410Z",
     "start_time": "2025-02-28T05:49:17.075466Z"
    }
   },
   "outputs": [
    {
     "name": "stdout",
     "output_type": "stream",
     "text": [
      "ETF数据基本信息：\n",
      "数据时间范围：2024-01-02 00:00:00 至 2024-12-31 00:00:00\n",
      "交易日数量：242\n",
      "\n",
      "前5行数据：\n"
     ]
    },
    {
     "data": {
      "text/html": [
       "<div>\n",
       "<style scoped>\n",
       "    .dataframe tbody tr th:only-of-type {\n",
       "        vertical-align: middle;\n",
       "    }\n",
       "\n",
       "    .dataframe tbody tr th {\n",
       "        vertical-align: top;\n",
       "    }\n",
       "\n",
       "    .dataframe thead th {\n",
       "        text-align: right;\n",
       "    }\n",
       "</style>\n",
       "<table border=\"1\" class=\"dataframe\">\n",
       "  <thead>\n",
       "    <tr style=\"text-align: right;\">\n",
       "      <th></th>\n",
       "      <th>ts_code</th>\n",
       "      <th>trade_date</th>\n",
       "      <th>open</th>\n",
       "      <th>high</th>\n",
       "      <th>low</th>\n",
       "      <th>close</th>\n",
       "      <th>vol</th>\n",
       "      <th>amount</th>\n",
       "    </tr>\n",
       "  </thead>\n",
       "  <tbody>\n",
       "    <tr>\n",
       "      <th>0</th>\n",
       "      <td>510500.SH</td>\n",
       "      <td>2024-01-02</td>\n",
       "      <td>5.524</td>\n",
       "      <td>5.530</td>\n",
       "      <td>5.492</td>\n",
       "      <td>5.497</td>\n",
       "      <td>3092572.47</td>\n",
       "      <td>1705665.321</td>\n",
       "    </tr>\n",
       "    <tr>\n",
       "      <th>1</th>\n",
       "      <td>510500.SH</td>\n",
       "      <td>2024-01-03</td>\n",
       "      <td>5.490</td>\n",
       "      <td>5.517</td>\n",
       "      <td>5.461</td>\n",
       "      <td>5.490</td>\n",
       "      <td>2255497.47</td>\n",
       "      <td>1238302.777</td>\n",
       "    </tr>\n",
       "    <tr>\n",
       "      <th>2</th>\n",
       "      <td>510500.SH</td>\n",
       "      <td>2024-01-04</td>\n",
       "      <td>5.491</td>\n",
       "      <td>5.495</td>\n",
       "      <td>5.417</td>\n",
       "      <td>5.446</td>\n",
       "      <td>2747555.34</td>\n",
       "      <td>1495540.700</td>\n",
       "    </tr>\n",
       "    <tr>\n",
       "      <th>3</th>\n",
       "      <td>510500.SH</td>\n",
       "      <td>2024-01-05</td>\n",
       "      <td>5.438</td>\n",
       "      <td>5.463</td>\n",
       "      <td>5.356</td>\n",
       "      <td>5.376</td>\n",
       "      <td>2031987.30</td>\n",
       "      <td>1099041.995</td>\n",
       "    </tr>\n",
       "    <tr>\n",
       "      <th>4</th>\n",
       "      <td>510500.SH</td>\n",
       "      <td>2024-01-08</td>\n",
       "      <td>5.361</td>\n",
       "      <td>5.364</td>\n",
       "      <td>5.248</td>\n",
       "      <td>5.250</td>\n",
       "      <td>2922712.27</td>\n",
       "      <td>1547033.096</td>\n",
       "    </tr>\n",
       "  </tbody>\n",
       "</table>\n",
       "</div>"
      ],
      "text/plain": [
       "     ts_code trade_date   open   high    low  close         vol       amount\n",
       "0  510500.SH 2024-01-02  5.524  5.530  5.492  5.497  3092572.47  1705665.321\n",
       "1  510500.SH 2024-01-03  5.490  5.517  5.461  5.490  2255497.47  1238302.777\n",
       "2  510500.SH 2024-01-04  5.491  5.495  5.417  5.446  2747555.34  1495540.700\n",
       "3  510500.SH 2024-01-05  5.438  5.463  5.356  5.376  2031987.30  1099041.995\n",
       "4  510500.SH 2024-01-08  5.361  5.364  5.248  5.250  2922712.27  1547033.096"
      ]
     },
     "execution_count": 9,
     "metadata": {},
     "output_type": "execute_result"
    }
   ],
   "source": [
    "# 加载ETF数据\n",
    "etf_df = pd.read_csv(etf_data_file)\n",
    "etf_df['trade_date'] = pd.to_datetime(etf_df['trade_date'])\n",
    "\n",
    "# 显示ETF数据基本信息\n",
    "print(\"ETF数据基本信息：\")\n",
    "print(f\"数据时间范围：{etf_df['trade_date'].min()} 至 {etf_df['trade_date'].max()}\")\n",
    "print(f\"交易日数量：{len(etf_df)}\")\n",
    "print(\"\\n前5行数据：\")\n",
    "etf_df.head()"
   ]
  },
  {
   "cell_type": "code",
   "execution_count": 10,
   "id": "fcc96a0b371abda9",
   "metadata": {
    "ExecuteTime": {
     "end_time": "2025-02-28T05:49:18.805841Z",
     "start_time": "2025-02-28T05:49:18.788749Z"
    }
   },
   "outputs": [
    {
     "name": "stdout",
     "output_type": "stream",
     "text": [
      "期权数据基本信息：\n",
      "期权合约数量：114\n",
      "看涨期权数量：114\n",
      "看跌期权数量：0\n",
      "\n",
      "前5行数据：\n"
     ]
    },
    {
     "data": {
      "text/html": [
       "<div>\n",
       "<style scoped>\n",
       "    .dataframe tbody tr th:only-of-type {\n",
       "        vertical-align: middle;\n",
       "    }\n",
       "\n",
       "    .dataframe tbody tr th {\n",
       "        vertical-align: top;\n",
       "    }\n",
       "\n",
       "    .dataframe thead th {\n",
       "        text-align: right;\n",
       "    }\n",
       "</style>\n",
       "<table border=\"1\" class=\"dataframe\">\n",
       "  <thead>\n",
       "    <tr style=\"text-align: right;\">\n",
       "      <th></th>\n",
       "      <th>ts_code</th>\n",
       "      <th>name</th>\n",
       "      <th>call_put</th>\n",
       "      <th>exercise_price</th>\n",
       "      <th>list_date</th>\n",
       "      <th>delist_date</th>\n",
       "      <th>trade_date</th>\n",
       "      <th>exchange</th>\n",
       "      <th>pre_settle</th>\n",
       "      <th>pre_close</th>\n",
       "      <th>...</th>\n",
       "      <th>high</th>\n",
       "      <th>low</th>\n",
       "      <th>close</th>\n",
       "      <th>settle</th>\n",
       "      <th>vol</th>\n",
       "      <th>amount</th>\n",
       "      <th>oi</th>\n",
       "      <th>expire_date</th>\n",
       "      <th>days_to_expire</th>\n",
       "      <th>price_diff</th>\n",
       "    </tr>\n",
       "  </thead>\n",
       "  <tbody>\n",
       "    <tr>\n",
       "      <th>0</th>\n",
       "      <td>10006312.SH</td>\n",
       "      <td>南方中证500ETF期权2401认购5.50</td>\n",
       "      <td>C</td>\n",
       "      <td>5.500</td>\n",
       "      <td>20231123</td>\n",
       "      <td>20240124</td>\n",
       "      <td>2024-01-02</td>\n",
       "      <td>SSE</td>\n",
       "      <td>0.0967</td>\n",
       "      <td>0.0967</td>\n",
       "      <td>...</td>\n",
       "      <td>0.1031</td>\n",
       "      <td>0.0710</td>\n",
       "      <td>0.0710</td>\n",
       "      <td>0.0710</td>\n",
       "      <td>70529.0</td>\n",
       "      <td>6454.9149</td>\n",
       "      <td>51832.0</td>\n",
       "      <td>2024-01-24</td>\n",
       "      <td>22</td>\n",
       "      <td>0.003</td>\n",
       "    </tr>\n",
       "    <tr>\n",
       "      <th>1</th>\n",
       "      <td>10006542.SH</td>\n",
       "      <td>南方中证500ETF期权2402认购5.50</td>\n",
       "      <td>C</td>\n",
       "      <td>5.500</td>\n",
       "      <td>20231228</td>\n",
       "      <td>20240228</td>\n",
       "      <td>2024-01-02</td>\n",
       "      <td>SSE</td>\n",
       "      <td>0.1384</td>\n",
       "      <td>0.1384</td>\n",
       "      <td>...</td>\n",
       "      <td>0.1406</td>\n",
       "      <td>0.1123</td>\n",
       "      <td>0.1123</td>\n",
       "      <td>0.1123</td>\n",
       "      <td>3229.0</td>\n",
       "      <td>427.4888</td>\n",
       "      <td>3256.0</td>\n",
       "      <td>2024-02-28</td>\n",
       "      <td>57</td>\n",
       "      <td>0.003</td>\n",
       "    </tr>\n",
       "    <tr>\n",
       "      <th>2</th>\n",
       "      <td>10005803.SH</td>\n",
       "      <td>南方中证500ETF期权2403认购5.50</td>\n",
       "      <td>C</td>\n",
       "      <td>5.500</td>\n",
       "      <td>20230727</td>\n",
       "      <td>20240327</td>\n",
       "      <td>2024-01-02</td>\n",
       "      <td>SSE</td>\n",
       "      <td>0.1629</td>\n",
       "      <td>0.1629</td>\n",
       "      <td>...</td>\n",
       "      <td>0.1668</td>\n",
       "      <td>0.1424</td>\n",
       "      <td>0.1425</td>\n",
       "      <td>0.1425</td>\n",
       "      <td>2387.0</td>\n",
       "      <td>375.8197</td>\n",
       "      <td>12416.0</td>\n",
       "      <td>2024-03-27</td>\n",
       "      <td>85</td>\n",
       "      <td>0.003</td>\n",
       "    </tr>\n",
       "    <tr>\n",
       "      <th>3</th>\n",
       "      <td>10006207.SH</td>\n",
       "      <td>南方中证500ETF期权2406认购5.413</td>\n",
       "      <td>C</td>\n",
       "      <td>5.413</td>\n",
       "      <td>20231026</td>\n",
       "      <td>20240626</td>\n",
       "      <td>2024-01-02</td>\n",
       "      <td>SSE</td>\n",
       "      <td>0.2040</td>\n",
       "      <td>0.2040</td>\n",
       "      <td>...</td>\n",
       "      <td>0.2205</td>\n",
       "      <td>0.1992</td>\n",
       "      <td>0.1992</td>\n",
       "      <td>0.1992</td>\n",
       "      <td>1018.0</td>\n",
       "      <td>217.8220</td>\n",
       "      <td>17352.0</td>\n",
       "      <td>2024-06-26</td>\n",
       "      <td>176</td>\n",
       "      <td>0.084</td>\n",
       "    </tr>\n",
       "    <tr>\n",
       "      <th>4</th>\n",
       "      <td>10006312.SH</td>\n",
       "      <td>南方中证500ETF期权2401认购5.50</td>\n",
       "      <td>C</td>\n",
       "      <td>5.500</td>\n",
       "      <td>20231123</td>\n",
       "      <td>20240124</td>\n",
       "      <td>2024-01-03</td>\n",
       "      <td>SSE</td>\n",
       "      <td>0.0710</td>\n",
       "      <td>0.0710</td>\n",
       "      <td>...</td>\n",
       "      <td>0.0851</td>\n",
       "      <td>0.0588</td>\n",
       "      <td>0.0683</td>\n",
       "      <td>0.0683</td>\n",
       "      <td>87542.0</td>\n",
       "      <td>6276.6666</td>\n",
       "      <td>54239.0</td>\n",
       "      <td>2024-01-24</td>\n",
       "      <td>21</td>\n",
       "      <td>0.010</td>\n",
       "    </tr>\n",
       "  </tbody>\n",
       "</table>\n",
       "<p>5 rows × 21 columns</p>\n",
       "</div>"
      ],
      "text/plain": [
       "       ts_code                     name call_put  exercise_price  list_date  \\\n",
       "0  10006312.SH   南方中证500ETF期权2401认购5.50        C           5.500   20231123   \n",
       "1  10006542.SH   南方中证500ETF期权2402认购5.50        C           5.500   20231228   \n",
       "2  10005803.SH   南方中证500ETF期权2403认购5.50        C           5.500   20230727   \n",
       "3  10006207.SH  南方中证500ETF期权2406认购5.413        C           5.413   20231026   \n",
       "4  10006312.SH   南方中证500ETF期权2401认购5.50        C           5.500   20231123   \n",
       "\n",
       "   delist_date trade_date exchange  pre_settle  pre_close  ...    high  \\\n",
       "0     20240124 2024-01-02      SSE      0.0967     0.0967  ...  0.1031   \n",
       "1     20240228 2024-01-02      SSE      0.1384     0.1384  ...  0.1406   \n",
       "2     20240327 2024-01-02      SSE      0.1629     0.1629  ...  0.1668   \n",
       "3     20240626 2024-01-02      SSE      0.2040     0.2040  ...  0.2205   \n",
       "4     20240124 2024-01-03      SSE      0.0710     0.0710  ...  0.0851   \n",
       "\n",
       "      low   close  settle      vol     amount       oi  expire_date  \\\n",
       "0  0.0710  0.0710  0.0710  70529.0  6454.9149  51832.0   2024-01-24   \n",
       "1  0.1123  0.1123  0.1123   3229.0   427.4888   3256.0   2024-02-28   \n",
       "2  0.1424  0.1425  0.1425   2387.0   375.8197  12416.0   2024-03-27   \n",
       "3  0.1992  0.1992  0.1992   1018.0   217.8220  17352.0   2024-06-26   \n",
       "4  0.0588  0.0683  0.0683  87542.0  6276.6666  54239.0   2024-01-24   \n",
       "\n",
       "  days_to_expire  price_diff  \n",
       "0             22       0.003  \n",
       "1             57       0.003  \n",
       "2             85       0.003  \n",
       "3            176       0.084  \n",
       "4             21       0.010  \n",
       "\n",
       "[5 rows x 21 columns]"
      ]
     },
     "execution_count": 10,
     "metadata": {},
     "output_type": "execute_result"
    }
   ],
   "source": [
    "# 加载期权数据\n",
    "option_df = pd.read_csv(option_data_file)\n",
    "option_df['trade_date'] = pd.to_datetime(option_df['trade_date'])\n",
    "option_df['expire_date'] = pd.to_datetime(option_df['expire_date'])\n",
    "\n",
    "# 显示期权数据基本信息\n",
    "print(\"期权数据基本信息：\")\n",
    "print(f\"期权合约数量：{option_df['ts_code'].nunique()}\")\n",
    "print(f\"看涨期权数量：{option_df[option_df['call_put'] == 'C']['ts_code'].nunique()}\")\n",
    "print(f\"看跌期权数量：{option_df[option_df['call_put'] == 'P']['ts_code'].nunique()}\")\n",
    "print(\"\\n前5行数据：\")\n",
    "option_df.head()"
   ]
  },
  {
   "cell_type": "markdown",
   "id": "bc1ea61454b51223",
   "metadata": {},
   "source": [
    "## 3. 可视化ETF价格走势\n",
    "\n",
    "让我们绘制中证500ETF在回测期间的价格走势图。"
   ]
  },
  {
   "cell_type": "code",
   "execution_count": 11,
   "id": "cc5996bfef333271",
   "metadata": {
    "ExecuteTime": {
     "end_time": "2025-02-28T06:01:45.133346Z",
     "start_time": "2025-02-28T06:01:44.979074Z"
    }
   },
   "outputs": [
    {
     "data": {
      "image/png": "[encoded data removed]",
      "text/plain": [
       "<Figure size 1400x700 with 1 Axes>"
      ]
     },
     "metadata": {},
     "output_type": "display_data"
    }
   ],
   "source": [
    "plt.figure(figsize=(14, 7))\n",
    "\n",
    "# 绘制ETF收盘价走势\n",
    "plt.plot(etf_df['trade_date'], etf_df['close'], label='中证500ETF收盘价')\n",
    "\n",
    "# 添加标题和标签\n",
    "plt.title('中证500ETF价格走势', fontsize=15)\n",
    "plt.xlabel('日期')\n",
    "plt.ylabel('价格')\n",
    "plt.grid(True)\n",
    "plt.legend()\n",
    "\n",
    "# 优化x轴日期显示\n",
    "plt.xticks(rotation=45)\n",
    "plt.tight_layout()\n",
    "\n",
    "\n",
    "plt.show()"
   ]
  },
  {
   "cell_type": "markdown",
   "id": "36bf62dc609a3e7b",
   "metadata": {},
   "source": [
    "## 4. 运行策略回测\n",
    "\n",
    "现在，我们将运行我们的期权策略回测，并分析结果。"
   ]
  },
  {
   "cell_type": "code",
   "execution_count": 12,
   "id": "cbdc62d52029cabf",
   "metadata": {
    "ExecuteTime": {
     "end_time": "2025-02-28T06:12:05.142699Z",
     "start_time": "2025-02-28T06:12:04.758526Z"
    }
   },
   "outputs": [
    {
     "name": "stdout",
     "output_type": "stream",
     "text": [
      "2024-12-26, 卖出平值看涨期权: 10007972.SH, 行权价: 6.0, 到期日: 2024-10-23 00:00:00\n"
     ]
    },
    {
     "ename": "TypeError",
     "evalue": "unsupported operand type(s) for -: 'datetime.datetime' and 'datetime.date'",
     "output_type": "error",
     "traceback": [
      "\u001b[0;31m---------------------------------------------------------------------------\u001b[0m",
      "\u001b[0;31mTypeError\u001b[0m                                 Traceback (most recent call last)",
      "Input \u001b[0;32mIn [12]\u001b[0m, in \u001b[0;36m<cell line: 2>\u001b[0;34m()\u001b[0m\n\u001b[1;32m      1\u001b[0m \u001b[38;5;66;03m# 运行回测\u001b[39;00m\n\u001b[0;32m----> 2\u001b[0m results \u001b[38;5;241m=\u001b[39m \u001b[43mrun_backtest\u001b[49m\u001b[43m(\u001b[49m\n\u001b[1;32m      3\u001b[0m \u001b[43m    \u001b[49m\u001b[43metf_data_file\u001b[49m\u001b[38;5;241;43m=\u001b[39;49m\u001b[43metf_data_file\u001b[49m\u001b[43m,\u001b[49m\n\u001b[1;32m      4\u001b[0m \u001b[43m    \u001b[49m\u001b[43moption_data_file\u001b[49m\u001b[38;5;241;43m=\u001b[39;49m\u001b[43moption_data_file\u001b[49m\u001b[43m,\u001b[49m\n\u001b[1;32m      5\u001b[0m \u001b[43m    \u001b[49m\u001b[43mcash\u001b[49m\u001b[38;5;241;43m=\u001b[39;49m\u001b[38;5;241;43m100000.0\u001b[39;49m\u001b[43m,\u001b[49m\u001b[43m  \u001b[49m\u001b[38;5;66;43;03m# 初始资金10万\u001b[39;49;00m\n\u001b[1;32m      6\u001b[0m \u001b[43m    \u001b[49m\u001b[43mcommission\u001b[49m\u001b[38;5;241;43m=\u001b[39;49m\u001b[38;5;241;43m0.0003\u001b[39;49m\u001b[43m,\u001b[49m\u001b[43m  \u001b[49m\u001b[38;5;66;43;03m# 佣金率0.03%\u001b[39;49;00m\n\u001b[1;32m      7\u001b[0m \u001b[43m    \u001b[49m\u001b[43mdays_before_expiry\u001b[49m\u001b[38;5;241;43m=\u001b[39;49m\u001b[38;5;241;43m7\u001b[39;49m\u001b[43m,\u001b[49m\u001b[43m  \u001b[49m\u001b[38;5;66;43;03m# 到期前7天展期\u001b[39;49;00m\n\u001b[1;32m      8\u001b[0m \u001b[43m    \u001b[49m\u001b[43mprintlog\u001b[49m\u001b[38;5;241;43m=\u001b[39;49m\u001b[38;5;28;43;01mTrue\u001b[39;49;00m\u001b[43m  \u001b[49m\u001b[38;5;66;43;03m# 打印日志\u001b[39;49;00m\n\u001b[1;32m      9\u001b[0m \u001b[43m)\u001b[49m\n",
      "File \u001b[0;32m~/IdeaProjects/py3/backtraderOption/notebooks/../backtest/engine.py:191\u001b[0m, in \u001b[0;36mrun_backtest\u001b[0;34m(etf_data_file, option_data_file, cash, commission, days_before_expiry, printlog)\u001b[0m\n\u001b[1;32m    188\u001b[0m engine\u001b[38;5;241m.\u001b[39madd_strategy(MonthlySellATMCall, days_before_expiry\u001b[38;5;241m=\u001b[39mdays_before_expiry, printlog\u001b[38;5;241m=\u001b[39mprintlog)\n\u001b[1;32m    190\u001b[0m \u001b[38;5;66;03m# 运行回测\u001b[39;00m\n\u001b[0;32m--> 191\u001b[0m results \u001b[38;5;241m=\u001b[39m \u001b[43mengine\u001b[49m\u001b[38;5;241;43m.\u001b[39;49m\u001b[43mrun\u001b[49m\u001b[43m(\u001b[49m\u001b[43m)\u001b[49m\n\u001b[1;32m    193\u001b[0m \u001b[38;5;66;03m# 绘制结果\u001b[39;00m\n\u001b[1;32m    194\u001b[0m engine\u001b[38;5;241m.\u001b[39mplot()\n",
      "File \u001b[0;32m~/IdeaProjects/py3/backtraderOption/notebooks/../backtest/engine.py:129\u001b[0m, in \u001b[0;36mBacktestEngine.run\u001b[0;34m(self)\u001b[0m\n\u001b[1;32m    126\u001b[0m initial_cash \u001b[38;5;241m=\u001b[39m \u001b[38;5;28mself\u001b[39m\u001b[38;5;241m.\u001b[39mcerebro\u001b[38;5;241m.\u001b[39mbroker\u001b[38;5;241m.\u001b[39mgetvalue()\n\u001b[1;32m    128\u001b[0m \u001b[38;5;66;03m# 运行回测\u001b[39;00m\n\u001b[0;32m--> 129\u001b[0m results \u001b[38;5;241m=\u001b[39m \u001b[38;5;28;43mself\u001b[39;49m\u001b[38;5;241;43m.\u001b[39;49m\u001b[43mcerebro\u001b[49m\u001b[38;5;241;43m.\u001b[39;49m\u001b[43mrun\u001b[49m\u001b[43m(\u001b[49m\u001b[43m)\u001b[49m\n\u001b[1;32m    130\u001b[0m strategy \u001b[38;5;241m=\u001b[39m results[\u001b[38;5;241m0\u001b[39m]\n\u001b[1;32m    132\u001b[0m \u001b[38;5;66;03m# 计算最终资金\u001b[39;00m\n",
      "File \u001b[0;32m~/opt/anaconda3/lib/python3.9/site-packages/backtrader/cerebro.py:1127\u001b[0m, in \u001b[0;36mCerebro.run\u001b[0;34m(self, **kwargs)\u001b[0m\n\u001b[1;32m   1123\u001b[0m \u001b[38;5;28;01mif\u001b[39;00m \u001b[38;5;129;01mnot\u001b[39;00m \u001b[38;5;28mself\u001b[39m\u001b[38;5;241m.\u001b[39m_dooptimize \u001b[38;5;129;01mor\u001b[39;00m \u001b[38;5;28mself\u001b[39m\u001b[38;5;241m.\u001b[39mp\u001b[38;5;241m.\u001b[39mmaxcpus \u001b[38;5;241m==\u001b[39m \u001b[38;5;241m1\u001b[39m:\n\u001b[1;32m   1124\u001b[0m     \u001b[38;5;66;03m# If no optimmization is wished ... or 1 core is to be used\u001b[39;00m\n\u001b[1;32m   1125\u001b[0m     \u001b[38;5;66;03m# let's skip process \"spawning\"\u001b[39;00m\n\u001b[1;32m   1126\u001b[0m     \u001b[38;5;28;01mfor\u001b[39;00m iterstrat \u001b[38;5;129;01min\u001b[39;00m iterstrats:\n\u001b[0;32m-> 1127\u001b[0m         runstrat \u001b[38;5;241m=\u001b[39m \u001b[38;5;28;43mself\u001b[39;49m\u001b[38;5;241;43m.\u001b[39;49m\u001b[43mrunstrategies\u001b[49m\u001b[43m(\u001b[49m\u001b[43miterstrat\u001b[49m\u001b[43m)\u001b[49m\n\u001b[1;32m   1128\u001b[0m         \u001b[38;5;28mself\u001b[39m\u001b[38;5;241m.\u001b[39mrunstrats\u001b[38;5;241m.\u001b[39mappend(runstrat)\n\u001b[1;32m   1129\u001b[0m         \u001b[38;5;28;01mif\u001b[39;00m \u001b[38;5;28mself\u001b[39m\u001b[38;5;241m.\u001b[39m_dooptimize:\n",
      "File \u001b[0;32m~/opt/anaconda3/lib/python3.9/site-packages/backtrader/cerebro.py:1293\u001b[0m, in \u001b[0;36mCerebro.runstrategies\u001b[0;34m(self, iterstrat, predata)\u001b[0m\n\u001b[1;32m   1291\u001b[0m         \u001b[38;5;28mself\u001b[39m\u001b[38;5;241m.\u001b[39m_runonce_old(runstrats)\n\u001b[1;32m   1292\u001b[0m     \u001b[38;5;28;01melse\u001b[39;00m:\n\u001b[0;32m-> 1293\u001b[0m         \u001b[38;5;28;43mself\u001b[39;49m\u001b[38;5;241;43m.\u001b[39;49m\u001b[43m_runonce\u001b[49m\u001b[43m(\u001b[49m\u001b[43mrunstrats\u001b[49m\u001b[43m)\u001b[49m\n\u001b[1;32m   1294\u001b[0m \u001b[38;5;28;01melse\u001b[39;00m:\n\u001b[1;32m   1295\u001b[0m     \u001b[38;5;28;01mif\u001b[39;00m \u001b[38;5;28mself\u001b[39m\u001b[38;5;241m.\u001b[39mp\u001b[38;5;241m.\u001b[39moldsync:\n",
      "File \u001b[0;32m~/opt/anaconda3/lib/python3.9/site-packages/backtrader/cerebro.py:1695\u001b[0m, in \u001b[0;36mCerebro._runonce\u001b[0;34m(self, runstrats)\u001b[0m\n\u001b[1;32m   1692\u001b[0m \u001b[38;5;28mself\u001b[39m\u001b[38;5;241m.\u001b[39m_check_timers(runstrats, dt0, cheat\u001b[38;5;241m=\u001b[39m\u001b[38;5;28;01mFalse\u001b[39;00m)\n\u001b[1;32m   1694\u001b[0m \u001b[38;5;28;01mfor\u001b[39;00m strat \u001b[38;5;129;01min\u001b[39;00m runstrats:\n\u001b[0;32m-> 1695\u001b[0m     \u001b[43mstrat\u001b[49m\u001b[38;5;241;43m.\u001b[39;49m\u001b[43m_oncepost\u001b[49m\u001b[43m(\u001b[49m\u001b[43mdt0\u001b[49m\u001b[43m)\u001b[49m\n\u001b[1;32m   1696\u001b[0m     \u001b[38;5;28;01mif\u001b[39;00m \u001b[38;5;28mself\u001b[39m\u001b[38;5;241m.\u001b[39m_event_stop:  \u001b[38;5;66;03m# stop if requested\u001b[39;00m\n\u001b[1;32m   1697\u001b[0m         \u001b[38;5;28;01mreturn\u001b[39;00m\n",
      "File \u001b[0;32m~/opt/anaconda3/lib/python3.9/site-packages/backtrader/strategy.py:311\u001b[0m, in \u001b[0;36mStrategy._oncepost\u001b[0;34m(self, dt)\u001b[0m\n\u001b[1;32m    309\u001b[0m     \u001b[38;5;28mself\u001b[39m\u001b[38;5;241m.\u001b[39mnext()\n\u001b[1;32m    310\u001b[0m \u001b[38;5;28;01melif\u001b[39;00m minperstatus \u001b[38;5;241m==\u001b[39m \u001b[38;5;241m0\u001b[39m:\n\u001b[0;32m--> 311\u001b[0m     \u001b[38;5;28;43mself\u001b[39;49m\u001b[38;5;241;43m.\u001b[39;49m\u001b[43mnextstart\u001b[49m\u001b[43m(\u001b[49m\u001b[43m)\u001b[49m  \u001b[38;5;66;03m# only called for the 1st value\u001b[39;00m\n\u001b[1;32m    312\u001b[0m \u001b[38;5;28;01melse\u001b[39;00m:\n\u001b[1;32m    313\u001b[0m     \u001b[38;5;28mself\u001b[39m\u001b[38;5;241m.\u001b[39mprenext()\n",
      "File \u001b[0;32m~/opt/anaconda3/lib/python3.9/site-packages/backtrader/lineiterator.py:347\u001b[0m, in \u001b[0;36mLineIterator.nextstart\u001b[0;34m(self)\u001b[0m\n\u001b[1;32m    340\u001b[0m \u001b[38;5;124;03m'''\u001b[39;00m\n\u001b[1;32m    341\u001b[0m \u001b[38;5;124;03mThis method will be called once, exactly when the minimum period for\u001b[39;00m\n\u001b[1;32m    342\u001b[0m \u001b[38;5;124;03mall datas/indicators have been meet. The default behavior is to call\u001b[39;00m\n\u001b[1;32m    343\u001b[0m \u001b[38;5;124;03mnext\u001b[39;00m\n\u001b[1;32m    344\u001b[0m \u001b[38;5;124;03m'''\u001b[39;00m\n\u001b[1;32m    346\u001b[0m \u001b[38;5;66;03m# Called once for 1st full calculation - defaults to regular next\u001b[39;00m\n\u001b[0;32m--> 347\u001b[0m \u001b[38;5;28;43mself\u001b[39;49m\u001b[38;5;241;43m.\u001b[39;49m\u001b[43mnext\u001b[49m\u001b[43m(\u001b[49m\u001b[43m)\u001b[49m\n",
      "File \u001b[0;32m~/IdeaProjects/py3/backtraderOption/notebooks/../strategies/monthly_atm_call.py:52\u001b[0m, in \u001b[0;36mMonthlySellATMCall.next\u001b[0;34m(self)\u001b[0m\n\u001b[1;32m     50\u001b[0m days_to_expiry \u001b[38;5;241m=\u001b[39m (expiry_date \u001b[38;5;241m-\u001b[39m current_date)\u001b[38;5;241m.\u001b[39mdays\n\u001b[1;32m     51\u001b[0m \u001b[38;5;28;01mif\u001b[39;00m days_to_expiry \u001b[38;5;241m<\u001b[39m\u001b[38;5;241m=\u001b[39m \u001b[38;5;28mself\u001b[39m\u001b[38;5;241m.\u001b[39mp\u001b[38;5;241m.\u001b[39mdays_before_expiry:\n\u001b[0;32m---> 52\u001b[0m     \u001b[38;5;28;43mself\u001b[39;49m\u001b[38;5;241;43m.\u001b[39;49m\u001b[43mroll_option\u001b[49m\u001b[43m(\u001b[49m\u001b[43mcurrent_date\u001b[49m\u001b[43m)\u001b[49m\n",
      "File \u001b[0;32m~/IdeaProjects/py3/backtraderOption/notebooks/../strategies/monthly_atm_call.py:79\u001b[0m, in \u001b[0;36mMonthlySellATMCall.roll_option\u001b[0;34m(self, date)\u001b[0m\n\u001b[1;32m     76\u001b[0m \u001b[38;5;28;01mif\u001b[39;00m \u001b[38;5;28mself\u001b[39m\u001b[38;5;241m.\u001b[39mcurrent_option:\n\u001b[1;32m     77\u001b[0m     \u001b[38;5;66;03m# 买回当前期权合约\u001b[39;00m\n\u001b[1;32m     78\u001b[0m     \u001b[38;5;28mself\u001b[39m\u001b[38;5;241m.\u001b[39mbuy(data\u001b[38;5;241m=\u001b[39m\u001b[38;5;28mself\u001b[39m\u001b[38;5;241m.\u001b[39mcurrent_option, size\u001b[38;5;241m=\u001b[39m\u001b[38;5;241m1\u001b[39m)\n\u001b[0;32m---> 79\u001b[0m     \u001b[38;5;28mself\u001b[39m\u001b[38;5;241m.\u001b[39mlog(\u001b[38;5;124mf\u001b[39m\u001b[38;5;124m'\u001b[39m\u001b[38;5;124m买回期权: \u001b[39m\u001b[38;5;132;01m{\u001b[39;00m\u001b[38;5;28mself\u001b[39m\u001b[38;5;241m.\u001b[39mcurrent_option\u001b[38;5;241m.\u001b[39m_name\u001b[38;5;132;01m}\u001b[39;00m\u001b[38;5;124m, 距离到期: \u001b[39m\u001b[38;5;132;01m{\u001b[39;00m(\u001b[38;5;28mself\u001b[39m\u001b[38;5;241m.\u001b[39mcurrent_expiry \u001b[38;5;241m-\u001b[39m date)\u001b[38;5;241m.\u001b[39mdays\u001b[38;5;132;01m}\u001b[39;00m\u001b[38;5;124m天\u001b[39m\u001b[38;5;124m'\u001b[39m)\n\u001b[1;32m     81\u001b[0m     \u001b[38;5;66;03m# 记录交易结果\u001b[39;00m\n\u001b[1;32m     82\u001b[0m     trade_result \u001b[38;5;241m=\u001b[39m {\n\u001b[1;32m     83\u001b[0m         \u001b[38;5;124m'\u001b[39m\u001b[38;5;124mentry_date\u001b[39m\u001b[38;5;124m'\u001b[39m: \u001b[38;5;28mself\u001b[39m\u001b[38;5;241m.\u001b[39mcurrent_option\u001b[38;5;241m.\u001b[39mentry_date,\n\u001b[1;32m     84\u001b[0m         \u001b[38;5;124m'\u001b[39m\u001b[38;5;124mexit_date\u001b[39m\u001b[38;5;124m'\u001b[39m: date,\n\u001b[1;32m     85\u001b[0m         \u001b[38;5;124m'\u001b[39m\u001b[38;5;124mdays_held\u001b[39m\u001b[38;5;124m'\u001b[39m: (date \u001b[38;5;241m-\u001b[39m \u001b[38;5;28mself\u001b[39m\u001b[38;5;241m.\u001b[39mcurrent_option\u001b[38;5;241m.\u001b[39mentry_date)\u001b[38;5;241m.\u001b[39mdays,\n\u001b[1;32m     86\u001b[0m         \u001b[38;5;124m'\u001b[39m\u001b[38;5;124mprofit_loss\u001b[39m\u001b[38;5;124m'\u001b[39m: \u001b[38;5;28mself\u001b[39m\u001b[38;5;241m.\u001b[39mcurrent_option\u001b[38;5;241m.\u001b[39mpnl,\n\u001b[1;32m     87\u001b[0m     }\n",
      "\u001b[0;31mTypeError\u001b[0m: unsupported operand type(s) for -: 'datetime.datetime' and 'datetime.date'"
     ]
    }
   ],
   "source": [
    "# 运行回测\n",
    "results = run_backtest(\n",
    "    etf_data_file=etf_data_file,\n",
    "    option_data_file=option_data_file,\n",
    "    cash=100000.0,  # 初始资金10万\n",
    "    commission=0.0003,  # 佣金率0.03%\n",
    "    days_before_expiry=7,  # 到期前7天展期\n",
    "    printlog=True  # 打印日志\n",
    ")"
   ]
  },
  {
   "cell_type": "markdown",
   "id": "ec9340b023bfeb42",
   "metadata": {},
   "source": [
    "## 5. 分析回测结果\n",
    "\n",
    "让我们分析回测结果，包括收益率、交易统计等。"
   ]
  },
  {
   "cell_type": "code",
   "execution_count": null,
   "id": "430ca4c8377c62bd",
   "metadata": {},
   "outputs": [],
   "source": [
    "if results:\n",
    "    # 基本回测结果\n",
    "    print(f\"初始资金: {results['initial_cash']:.2f}元\")\n",
    "    print(f\"最终资金: {results['final_cash']:.2f}元\")\n",
    "    print(f\"总收益率: {results['returns']:.2f}%\")\n",
    "    print(f\"总交易次数: {len(results['trades'])}次\")\n",
    "    \n",
    "    # 如果有交易记录，计算更多统计数据\n",
    "    if results['trades']:\n",
    "        trades_df = pd.DataFrame(results['trades'])\n",
    "        \n",
    "        # 计算平均持仓天数\n",
    "        avg_days_held = trades_df['days_held'].mean()\n",
    "        print(f\"平均持仓天数: {avg_days_held:.2f}天\")\n",
    "        \n",
    "        # 计算平均每笔交易收益\n",
    "        avg_profit = trades_df['profit_loss'].mean()\n",
    "        print(f\"平均每笔交易收益: {avg_profit:.2f}元\")\n",
    "        \n",
    "        # 计算胜率\n",
    "        win_rate = (trades_df['profit_loss'] > 0).mean() * 100\n",
    "        print(f\"胜率: {win_rate:.2f}%\")\n",
    "        \n",
    "        # 计算盈亏比\n",
    "        profit_trades = trades_df[trades_df['profit_loss'] > 0]\n",
    "        loss_trades = trades_df[trades_df['profit_loss'] < 0]\n",
    "        \n",
    "        if not loss_trades.empty and not profit_trades.empty:\n",
    "            avg_profit = profit_trades['profit_loss'].mean()\n",
    "            avg_loss = abs(loss_trades['profit_loss'].mean())\n",
    "            profit_loss_ratio = avg_profit / avg_loss if avg_loss != 0 else float('inf')\n",
    "            print(f\"盈亏比: {profit_loss_ratio:.2f}\")\n",
    "else:\n",
    "    print(\"回测失败，未能获取结果\")"
   ]
  },
  {
   "cell_type": "markdown",
   "id": "3d1b7756ecac570b",
   "metadata": {},
   "source": [
    "## 6. 可视化交易结果\n",
    "\n",
    "让我们绘制交易结果的可视化图表。"
   ]
  }
 ],
 "metadata": {
  "kernelspec": {
   "display_name": "base",
   "language": "python",
   "name": "python3"
  },
  "language_info": {
   "codemirror_mode": {
    "name": "ipython",
    "version": 3
   },
   "file_extension": ".py",
   "mimetype": "text/x-python",
   "name": "python",
   "nbconvert_exporter": "python",
   "pygments_lexer": "ipython3",
   "version": "3.9.13"
  }
 },
 "nbformat": 4,
 "nbformat_minor": 2
}
