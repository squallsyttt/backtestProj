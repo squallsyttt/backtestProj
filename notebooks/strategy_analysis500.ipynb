{
 "cells": [
  {
   "cell_type": "markdown",
   "metadata": {},
   "source": [
    "# 中证500ETF期权策略分析\n",
    "\n",
    "本笔记本用于分析我们的期权策略：每月初卖出中证500ETF平值看涨期权，到期前7天展期。我们将分析这个策略在一年内的表现，包括收益率、风险指标和交易统计。"
   ]
  },
  {
   "cell_type": "code",
   "execution_count": 1,
   "metadata": {
    "ExecuteTime": {
     "end_time": "2025-03-19T08:54:44.897024Z",
     "start_time": "2025-03-19T08:54:44.892366Z"
    }
   },
   "outputs": [],
   "source": [
    "# 导入必要的库\n",
    "import pandas as pd\n",
    "import numpy as np\n",
    "import matplotlib.pyplot as plt\n",
    "import seaborn as sns\n",
    "import datetime\n",
    "import sys\n",
    "import os\n",
    "from dotenv import load_dotenv\n",
    "\n",
    "# 加在项目中的.env配置 tushare的token之类的配置文件都可以放在里面\n",
    "load_dotenv()\n",
    "\n",
    "# 设置绘图风格\n",
    "plt.style.use('ggplot')\n",
    "sns.set(font_scale=1.2)\n",
    "\n",
    "# 添加项目根目录到路径\n",
    "sys.path.append('..')\n",
    "\n",
    "# 导入自定义模块 回测模块的engin 和 数据模块的data_fetcher\n",
    "from data.data_fetcher import DataFetcher\n",
    "\n",
    "import matplotlib.font_manager as fm\n",
    "\n",
    "# 获取所有可用字体\n",
    "# fonts = fm.findSystemFonts()\n",
    "# for font in fonts:\n",
    "#     print(fm.FontProperties(fname=font).get_name())\n",
    "\n",
    "import matplotlib.pyplot as plt\n",
    "plt.rcParams['font.sans-serif'] = ['Arial Unicode MS']\n",
    "plt.rcParams['axes.unicode_minus'] = False\n",
    "\n",
    "\n",
    "\n",
    "\n"
   ]
  },
  {
   "cell_type": "markdown",
   "metadata": {},
   "source": [
    "## 1. 数据准备\n",
    "\n",
    "首先，我们需要获取中证500ETF和相关期权的数据。如果数据已经存在，我们将直接加载；否则，我们将从Tushare获取数据。"
   ]
  },
  {
   "cell_type": "code",
   "execution_count": null,
   "metadata": {},
   "outputs": [],
   "source": [
    "# 定义标的种类和日期范围\n",
    "underlying = 'CSI500ETF'  # 标的种类，这里暂定中证500etf\n",
    "start_date = '20240101'\n",
    "end_date = '20241231'\n",
    "\n",
    "# 创建标的文件夹\n",
    "underlying_folder = f'../data/{underlying}'\n",
    "if not os.path.exists(underlying_folder):\n",
    "    os.makedirs(underlying_folder)\n",
    "\n",
    "# 生成包含日期的文件名\n",
    "etf_data_file = f'{underlying_folder}/{start_date}_{end_date}_stock_data.csv'\n",
    "option_data_file = f'{underlying_folder}/{start_date}_{end_date}_option_data.csv'\n",
    "\n",
    "if not (os.path.exists(etf_data_file) and os.path.exists(option_data_file)):\n",
    "    token = os.environ.get('TUSHARE_TOKEN')\n",
    "    if token is None:\n",
    "        token = input('请输入Tushare API token: ')\n",
    "\n",
    "    fetcher = DataFetcher(token=token)\n",
    "\n",
    "    print(f\"正在获取{start_date}至{end_date} {underlying}的数据...\")\n",
    "    etf_data, option_data = fetcher.prepare_backtest_data(start_date, end_date)\n",
    "    \n",
    "    # 保存数据\n",
    "    fetcher.save_data(etf_data, option_data, etf_file=etf_data_file, option_file=option_data_file)\n",
    "else:\n",
    "    print(\"数据文件已存在，将直接加载数据\")"
   ]
  },
  {
   "cell_type": "markdown",
   "metadata": {},
   "source": [
    "## 2. 查看数据\n",
    "\n",
    "让我们先看看ETF和期权数据的基本情况。"
   ]
  },
  {
   "cell_type": "code",
   "execution_count": 5,
   "metadata": {
    "ExecuteTime": {
     "end_time": "2025-03-19T08:54:52.752980Z",
     "start_time": "2025-03-19T08:54:52.742710Z"
    }
   },
   "outputs": [
    {
     "ename": "NameError",
     "evalue": "name 'etf_data_file' is not defined",
     "output_type": "error",
     "traceback": [
      "\u001b[0;31m---------------------------------------------------------------------------\u001b[0m",
      "\u001b[0;31mNameError\u001b[0m                                 Traceback (most recent call last)",
      "Input \u001b[0;32mIn [5]\u001b[0m, in \u001b[0;36m<cell line: 2>\u001b[0;34m()\u001b[0m\n\u001b[1;32m      1\u001b[0m \u001b[38;5;66;03m# 加载ETF数据\u001b[39;00m\n\u001b[0;32m----> 2\u001b[0m etf_df \u001b[38;5;241m=\u001b[39m pd\u001b[38;5;241m.\u001b[39mread_csv(\u001b[43metf_data_file\u001b[49m)\n\u001b[1;32m      3\u001b[0m etf_df[\u001b[38;5;124m'\u001b[39m\u001b[38;5;124mtrade_date\u001b[39m\u001b[38;5;124m'\u001b[39m] \u001b[38;5;241m=\u001b[39m pd\u001b[38;5;241m.\u001b[39mto_datetime(etf_df[\u001b[38;5;124m'\u001b[39m\u001b[38;5;124mtrade_date\u001b[39m\u001b[38;5;124m'\u001b[39m])\n\u001b[1;32m      5\u001b[0m \u001b[38;5;66;03m# 显示ETF数据基本信息\u001b[39;00m\n",
      "\u001b[0;31mNameError\u001b[0m: name 'etf_data_file' is not defined"
     ]
    }
   ],
   "source": [
    "# 加载ETF数据\n",
    "etf_df = pd.read_csv(etf_data_file)\n",
    "etf_df['trade_date'] = pd.to_datetime(etf_df['trade_date'])\n",
    "\n",
    "# 显示ETF数据基本信息\n",
    "print(\"ETF数据基本信息：\")\n",
    "print(f\"数据时间范围：{etf_df['trade_date'].min()} 至 {etf_df['trade_date'].max()}\")\n",
    "print(f\"交易日数量：{len(etf_df)}\")\n",
    "print(\"\\n前5行数据：\")\n",
    "etf_df.head()"
   ]
  },
  {
   "cell_type": "code",
   "execution_count": null,
   "metadata": {},
   "outputs": [],
   "source": [
    "# 加载期权数据\n",
    "option_df = pd.read_csv(option_data_file)\n",
    "option_df['trade_date'] = pd.to_datetime(option_df['trade_date'])\n",
    "option_df['expire_date'] = pd.to_datetime(option_df['expire_date'])\n",
    "\n",
    "# 显示期权数据基本信息\n",
    "print(\"期权数据基本信息：\")\n",
    "print(f\"期权合约数量：{option_df['ts_code'].nunique()}\")\n",
    "print(f\"看涨期权数量：{option_df[option_df['call_put'] == 'C']['ts_code'].nunique()}\")\n",
    "print(f\"看跌期权数量：{option_df[option_df['call_put'] == 'P']['ts_code'].nunique()}\")\n",
    "print(\"\\n前5行数据：\")\n",
    "option_df.head()"
   ]
  },
  {
   "cell_type": "markdown",
   "metadata": {},
   "source": [
    "## 3. 可视化ETF价格走势\n",
    "\n",
    "让我们绘制中证500ETF在回测期间的价格走势图。"
   ]
  },
  {
   "cell_type": "code",
   "execution_count": 2,
   "metadata": {
    "ExecuteTime": {
     "end_time": "2025-03-19T08:54:23.416786Z",
     "start_time": "2025-03-19T08:54:23.392533Z"
    }
   },
   "outputs": [
    {
     "ename": "NameError",
     "evalue": "name 'plt' is not defined",
     "output_type": "error",
     "traceback": [
      "\u001b[0;31m---------------------------------------------------------------------------\u001b[0m",
      "\u001b[0;31mNameError\u001b[0m                                 Traceback (most recent call last)",
      "Input \u001b[0;32mIn [2]\u001b[0m, in \u001b[0;36m<cell line: 1>\u001b[0;34m()\u001b[0m\n\u001b[0;32m----> 1\u001b[0m \u001b[43mplt\u001b[49m\u001b[38;5;241m.\u001b[39mfigure(figsize\u001b[38;5;241m=\u001b[39m(\u001b[38;5;241m14\u001b[39m, \u001b[38;5;241m7\u001b[39m))\n\u001b[1;32m      3\u001b[0m \u001b[38;5;66;03m# 绘制ETF收盘价走势\u001b[39;00m\n\u001b[1;32m      4\u001b[0m plt\u001b[38;5;241m.\u001b[39mplot(etf_df[\u001b[38;5;124m'\u001b[39m\u001b[38;5;124mtrade_date\u001b[39m\u001b[38;5;124m'\u001b[39m], etf_df[\u001b[38;5;124m'\u001b[39m\u001b[38;5;124mclose\u001b[39m\u001b[38;5;124m'\u001b[39m], label\u001b[38;5;241m=\u001b[39m\u001b[38;5;124m'\u001b[39m\u001b[38;5;124m中证500ETF收盘价\u001b[39m\u001b[38;5;124m'\u001b[39m)\n",
      "\u001b[0;31mNameError\u001b[0m: name 'plt' is not defined"
     ]
    }
   ],
   "source": [
    "plt.figure(figsize=(14, 7))\n",
    "\n",
    "# 绘制ETF收盘价走势\n",
    "plt.plot(etf_df['trade_date'], etf_df['close'], label='中证500ETF收盘价')\n",
    "\n",
    "# 添加标题和标签\n",
    "plt.title('中证500ETF价格走势', fontsize=15)\n",
    "plt.xlabel('日期')\n",
    "plt.ylabel('价格')\n",
    "plt.grid(True)\n",
    "plt.legend()\n",
    "\n",
    "# 优化x轴日期显示\n",
    "plt.xticks(rotation=45)\n",
    "plt.tight_layout()\n",
    "\n",
    "\n",
    "plt.show()"
   ]
  },
  {
   "cell_type": "markdown",
   "metadata": {},
   "source": [
    "## 4. 运行策略回测\n",
    "\n",
    "现在，我们将运行我们的期权策略回测，并分析结果。"
   ]
  },
  {
   "cell_type": "code",
   "execution_count": null,
   "metadata": {},
   "outputs": [],
   "source": [
    "from scripts.option.strategies.monthly_atm_call import MonthlyATMCallStrategy\n",
    "\n",
    "# 初始化策略\n",
    "strategy = MonthlyATMCallStrategy(\n",
    "    etf_data=etf_df,\n",
    "    option_data=option_df,\n",
    "    initial_capital=1_000_000  # 初始资金100万\n",
    ")\n",
    "\n",
    "# 运行回测\n",
    "strategy.run_backtest()\n",
    "\n",
    "# 获取结果\n",
    "results = strategy.get_results()"
   ]
  },
  {
   "cell_type": "markdown",
   "metadata": {},
   "source": [
    "## 5. 分析回测结果\n",
    "\n",
    "让我们分析回测结果，包括收益率、交易统计等。"
   ]
  },
  {
   "cell_type": "code",
   "execution_count": null,
   "metadata": {},
   "outputs": [],
   "source": [
    "# 计算关键指标\n",
    "metrics_df = pd.DataFrame([results['metrics']])\n",
    "\n",
    "print(\"策略绩效指标：\")\n",
    "display(metrics_df)"
   ]
  },
  {
   "cell_type": "markdown",
   "metadata": {},
   "source": [
    "## 6. 可视化交易结果\n",
    "\n",
    "让我们绘制交易结果的可视化图表。"
   ]
  },
  {
   "cell_type": "code",
   "execution_count": null,
   "metadata": {},
   "outputs": [],
   "source": [
    "# 绘制净值曲线\n",
    "plt.figure(figsize=(12, 6))\n",
    "plt.plot(results['nav']['date'], results['nav']['value'])\n",
    "plt.title('策略净值曲线')\n",
    "plt.xlabel('日期')\n",
    "plt.ylabel('净值')\n",
    "plt.grid(True)\n",
    "plt.show()"
   ]
  }
 ],
 "metadata": {
  "kernelspec": {
   "display_name": "base",
   "language": "python",
   "name": "python3"
  },
  "language_info": {
   "codemirror_mode": {
    "name": "ipython",
    "version": 3
   },
   "file_extension": ".py",
   "mimetype": "text/x-python",
   "name": "python",
   "nbconvert_exporter": "python",
   "pygments_lexer": "ipython3",
   "version": "3.9.13"
  }
 },
 "nbformat": 4,
 "nbformat_minor": 2
}
